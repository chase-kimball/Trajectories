{
 "cells": [
  {
   "cell_type": "code",
   "execution_count": 1,
   "metadata": {
    "slideshow": {
     "slide_type": "skip"
    }
   },
   "outputs": [
    {
     "name": "stdout",
     "output_type": "stream",
     "text": [
      "Omega = 232.15822694562664\n",
      "1.988409870698051e+30\n"
     ]
    }
   ],
   "source": [
    "from LMXB_System import doMotion, LMXB_Sys\n",
    "import matplotlib.pyplot as plt\n",
    "import seaborn as sns\n",
    "import numpy as np\n",
    "import TrajTools\n",
    "import astropy.units as u\n",
    "import astropy.constants as c\n",
    "\n",
    "M_d, M_b, M_n, M_dm =[1.45e11*Msun, 9.3e9*Msun, 1.0e10*Msun, 3.205e6 * 2.325e5 * Msun ]"
   ]
  },
  {
   "cell_type": "markdown",
   "metadata": {},
   "source": [
    "<span style=\"font-family:Papyrus; font-size:1.5em;\">\n",
    "To start, we need to load in the LMXB we're interested in. For now it's GROJ1305. See Observed.py for others\n",
    "</span>\n"
   ]
  },
  {
   "cell_type": "code",
   "execution_count": 8,
   "metadata": {},
   "outputs": [],
   "source": [
    "lmxb = LMXB_Sys('GROJ1655')"
   ]
  },
  {
   "cell_type": "markdown",
   "metadata": {},
   "source": [
    "<span style=\"font-family:Papyrus; font-size:1.5em;\">\n",
    "It has initial position lmxb.X0, lmxb.Y0, lmxb.Z0, and initial velocity lmxb.Vx0, lmxb.Vy0, lmxb.Vz0. Position units are in kiloparsecs and velocity units are in kilometers per second.\n",
    "</span>\n"
   ]
  },
  {
   "cell_type": "code",
   "execution_count": 13,
   "metadata": {},
   "outputs": [
    {
     "name": "stdout",
     "output_type": "stream",
     "text": [
      "Position:  -4.961804421408585 -0.8285386597161877 0.1501743775603374\n",
      "Velocity: -146.25024089974454 205.1731223459552 2.183883368075726\n"
     ]
    }
   ],
   "source": [
    "print('Position: ', lmxb.X0, lmxb.Y0, lmxb.Z0)\n",
    "print('Velocity:', lmxb.Vx0, lmxb.Vy0, lmxb.Vz0)\n"
   ]
  },
  {
   "cell_type": "markdown",
   "metadata": {
    "slideshow": {
     "slide_type": "slide"
    }
   },
   "source": [
    "<span style=\"font-family:Papyrus; font-size:1.5em;\">\n",
    "In order to get a trajectory, use doMotion(). The arguments are the lmxb object, how long you want to evolve it in units of billions of years (Gigayears), and the array of masses describing the galaxy (these are optional, try the command without them to be sure.)\n",
    "</span>\n"
   ]
  },
  {
   "cell_type": "code",
   "execution_count": 18,
   "metadata": {
    "slideshow": {
     "slide_type": "slide"
    }
   },
   "outputs": [],
   "source": [
    "\n",
    "doMotion(lmxb,1.0, M = [Md,Mb,Mn,Mdm])\n"
   ]
  },
  {
   "cell_type": "markdown",
   "metadata": {
    "slideshow": {
     "slide_type": "slide"
    }
   },
   "source": [
    "<span style=\"font-family:Papyrus; font-size:1.5em;\">\n",
    "Now that you've run doMotion(), you should have access to the trajectory positions (lmxb.X, lmxb.Y,lmxb.Z) and velocities (lmxb.Vx, lmxb.Vy, and lmxb.Vz). Same units as before. You also have an array that keeps track of the time (lmxb.t) in units of Gigayears.\n",
    "</span>\n"
   ]
  },
  {
   "cell_type": "markdown",
   "metadata": {},
   "source": [
    "<span style=\"font-family:Papyrus; font-size:1.5em;\">\n",
    "Now try making some plots. Try lmxb.X vs lmxb.Y for a top-down view of the galaxy. lmxb.X vs lmxb.Z for a side view. Etc. \n",
    "</span>"
   ]
  }
 ],
 "metadata": {
  "celltoolbar": "Slideshow",
  "kernelspec": {
   "display_name": "Python 3",
   "language": "python",
   "name": "python3"
  },
  "language_info": {
   "codemirror_mode": {
    "name": "ipython",
    "version": 3
   },
   "file_extension": ".py",
   "mimetype": "text/x-python",
   "name": "python",
   "nbconvert_exporter": "python",
   "pygments_lexer": "ipython3",
   "version": "3.7.3"
  }
 },
 "nbformat": 4,
 "nbformat_minor": 2
}
