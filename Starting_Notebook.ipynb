{
 "cells": [
  {
   "cell_type": "code",
   "execution_count": 2,
   "metadata": {
    "slideshow": {
     "slide_type": "skip"
    }
   },
   "outputs": [
    {
     "name": "stdout",
     "output_type": "stream",
     "text": [
      "1.988409870698051e+30\n"
     ]
    }
   ],
   "source": [
    "from LMXB_System import doMotion, LMXB_Sys\n",
    "import matplotlib.pyplot as plt\n",
    "import seaborn as sns\n",
    "import numpy as np\n",
    "import TrajTools\n",
    "import astropy.units as u\n",
    "from notebook_helper import params, color_array, plot_trajectory\n",
    "import astropy.constants as c\n",
    "plt.rcParams.update(params)\n",
    "plt.rcParams['text.latex.preamble'] = [r'\\usepackage{amsmath}'] #for \\text command\n",
    "plt.rcParams.update({'font.size': 22})\n",
    "Msun = c.M_sun.value\n",
    "print(Msun)\n",
    "M_d, M_b, M_n, M_dm =[1.45e11*Msun, 9.3e9*Msun, 1.0e10*Msun, 3.205e6 * 2.325e5 * Msun ]"
   ]
  },
  {
   "cell_type": "markdown",
   "metadata": {
    "slideshow": {
     "slide_type": "slide"
    }
   },
   "source": [
    "# Black Hole Trajectories\n",
    "<span style=\"font-family:Papyrus; font-size:1em;\">\n",
    "\n",
    " \n",
    "\\\n",
    "Just like everything else in the universe, black holes obey Newton's Second Law:\n",
    "\n",
    "# $$F=ma$$\n",
    "\n",
    "where\n",
    "\n",
    "**$m$** is the mass of the black hole\n",
    "\n",
    " $a$ is its acceleration, and\n",
    " \n",
    " $F$ is the gravitational force of the galaxy\n",
    "</span>"
   ]
  },
  {
   "cell_type": "markdown",
   "metadata": {
    "slideshow": {
     "slide_type": "slide"
    }
   },
   "source": [
    "# The Galactic Force\n",
    "\n",
    "<span style=\"font-family:Papyrus; font-size:1.em;\">\n",
    "\n",
    "The force that the black hole feels from the galaxy depends on its position in the galaxy, as well as the shape and mass distribution of the galaxy. The Milky Way can be modeled with four parts:\n",
    "\n",
    "**The Disk** with mass $M_{d}$. This is where we live! \\\n",
    "\\\n",
    "**The Nucleus** with mass $M_{n}$. It's home to the supermassive black hole Sagittarius A. \\\n",
    "\\\n",
    "**The Bulge** with mass $M_{b}$. It's the central star-forming region of our galaxy. \\\n",
    "\\\n",
    "**Dark Matter** with mass $M_{dm}$. We don't know what it's made of, but there's probably a lot of it in our galaxy. \\\n",
    "\n",
    "\\\n",
    "\\\n",
    "Now let's make our own Milky Way. First we'll use the real values for these masses.\n",
    "</span>\n",
    "\n",
    "<span style=\"font-family:Papyrus; font-size:1.5em;\">\n",
    "</span>\n"
   ]
  },
  {
   "cell_type": "code",
   "execution_count": 37,
   "metadata": {
    "slideshow": {
     "slide_type": "slide"
    }
   },
   "outputs": [],
   "source": [
    "Md = 1.45e11*Msun\n",
    "Mb = 9.3e9*Msun\n",
    "Mn = 1e10*Msun\n",
    "Mdm = 745162500000* Msun\n"
   ]
  },
  {
   "cell_type": "code",
   "execution_count": 38,
   "metadata": {},
   "outputs": [
    {
     "name": "stdout",
     "output_type": "stream",
     "text": [
      "2.883194312512174e+41\n"
     ]
    }
   ],
   "source": [
    "print(Md)"
   ]
  },
  {
   "cell_type": "markdown",
   "metadata": {
    "slideshow": {
     "slide_type": "slide"
    }
   },
   "source": [
    "<span style=\"font-family:Papyrus; font-size:1.5em;\">\n",
    "Now let's take the black hole in the low-mass X-ray binary GRO J1655, and see what happens when we let it fly for 2 billion years\n",
    "</span>\n"
   ]
  },
  {
   "cell_type": "code",
   "execution_count": 3,
   "metadata": {
    "slideshow": {
     "slide_type": "slide"
    }
   },
   "outputs": [
    {
     "ename": "NameError",
     "evalue": "name 'Md' is not defined",
     "output_type": "error",
     "traceback": [
      "\u001b[0;31m---------------------------------------------------------------------------\u001b[0m",
      "\u001b[0;31mNameError\u001b[0m                                 Traceback (most recent call last)",
      "\u001b[0;32m<ipython-input-3-50a9ba89f279>\u001b[0m in \u001b[0;36m<module>\u001b[0;34m\u001b[0m\n\u001b[1;32m      1\u001b[0m \u001b[0mblack_hole\u001b[0m \u001b[0;34m=\u001b[0m \u001b[0mLMXB_Sys\u001b[0m\u001b[0;34m(\u001b[0m\u001b[0;34m'GROJ1655'\u001b[0m\u001b[0;34m)\u001b[0m\u001b[0;34m\u001b[0m\u001b[0;34m\u001b[0m\u001b[0m\n\u001b[1;32m      2\u001b[0m \u001b[0;34m\u001b[0m\u001b[0m\n\u001b[0;32m----> 3\u001b[0;31m \u001b[0mdoMotion\u001b[0m\u001b[0;34m(\u001b[0m\u001b[0mblack_hole\u001b[0m\u001b[0;34m,\u001b[0m\u001b[0;36m1.0\u001b[0m\u001b[0;34m,\u001b[0m \u001b[0mM\u001b[0m \u001b[0;34m=\u001b[0m \u001b[0;34m[\u001b[0m\u001b[0mMd\u001b[0m\u001b[0;34m,\u001b[0m\u001b[0mMb\u001b[0m\u001b[0;34m,\u001b[0m\u001b[0mMn\u001b[0m\u001b[0;34m,\u001b[0m\u001b[0mMdm\u001b[0m\u001b[0;34m]\u001b[0m\u001b[0;34m)\u001b[0m\u001b[0;34m\u001b[0m\u001b[0;34m\u001b[0m\u001b[0m\n\u001b[0m",
      "\u001b[0;31mNameError\u001b[0m: name 'Md' is not defined"
     ]
    }
   ],
   "source": [
    "black_hole = LMXB_Sys('GROJ1655')\n",
    "\n",
    "doMotion(black_hole,1.0, M = [Md,Mb,Mn,Mdm])\n"
   ]
  },
  {
   "cell_type": "markdown",
   "metadata": {
    "slideshow": {
     "slide_type": "slide"
    }
   },
   "source": [
    "<span style=\"font-family:Papyrus; font-size:1.5em;\">\n",
    "What happens if we take away the Dark Matter?\n",
    "</span>\n"
   ]
  },
  {
   "cell_type": "code",
   "execution_count": null,
   "metadata": {
    "slideshow": {
     "slide_type": "slide"
    }
   },
   "outputs": [],
   "source": [
    "Mdm = 0\n"
   ]
  },
  {
   "cell_type": "code",
   "execution_count": 28,
   "metadata": {},
   "outputs": [],
   "source": [
    "lmxb = LMXB_Sys('GROJ1655')\n",
    "doMotion(lmxb,1.0, M = [Md,Mb,Mn,Mdm])\n"
   ]
  },
  {
   "cell_type": "code",
   "execution_count": 33,
   "metadata": {},
   "outputs": [
    {
     "data": {
      "text/plain": [
       "array([-4.96180442, -4.96180442, -4.96180442, ..., -0.70428555,\n",
       "       -0.64576903, -0.61201803])"
      ]
     },
     "execution_count": 33,
     "metadata": {},
     "output_type": "execute_result"
    }
   ],
   "source": [
    "lmxb.X"
   ]
  },
  {
   "cell_type": "code",
   "execution_count": 36,
   "metadata": {},
   "outputs": [
    {
     "data": {
      "text/plain": [
       "[<matplotlib.lines.Line2D at 0x7fab8d27f748>]"
      ]
     },
     "execution_count": 36,
     "metadata": {},
     "output_type": "execute_result"
    },
    {
     "data": {
      "image/png": "[encoded data removed]",
      "text/plain": [
       "<Figure size 1008x504 with 1 Axes>"
      ]
     },
     "metadata": {
      "needs_background": "light"
     },
     "output_type": "display_data"
    }
   ],
   "source": [
    "plt.plot(lmxb.t,lmxb.Z)"
   ]
  },
  {
   "cell_type": "markdown",
   "metadata": {
    "scrolled": true,
    "slideshow": {
     "slide_type": "slide"
    }
   },
   "source": [
    "<span style=\"font-family:Papyrus; font-size:1.5em;\">\n",
    "Hmmm, turns out not much. What happens if we get rid of the bulge too\n",
    "</span>\n"
   ]
  },
  {
   "cell_type": "code",
   "execution_count": null,
   "metadata": {
    "slideshow": {
     "slide_type": "slide"
    }
   },
   "outputs": [],
   "source": [
    "Mb = 0\n",
    "Md = 0\n",
    "Mn = 0"
   ]
  },
  {
   "cell_type": "code",
   "execution_count": null,
   "metadata": {
    "slideshow": {
     "slide_type": "-"
    }
   },
   "outputs": [],
   "source": [
    "black_hole = LMXB_Sys('GROJ1655')\n",
    "\n",
    "doMotion(black_hole,2.0, M = [Md,Mb,Mn,Mdm])\n",
    "plot_trajectory(black_hole.X,black_hole.Y,black_hole.Z)"
   ]
  },
  {
   "cell_type": "markdown",
   "metadata": {
    "slideshow": {
     "slide_type": "slide"
    }
   },
   "source": [
    "<span style=\"font-family:Papyrus; font-size:1.5em;\">\n",
    "It escaped!\n",
    "</span>\n"
   ]
  },
  {
   "cell_type": "code",
   "execution_count": null,
   "metadata": {
    "slideshow": {
     "slide_type": "slide"
    }
   },
   "outputs": [],
   "source": [
    "%matplotlib notebook\n",
    "from matplotlib.animation import FuncAnimation\n",
    "fig, ax = plt.subplots()\n",
    "line, = ax.plot([])     # A tuple unpacking to unpack the only plot\n",
    "ax.set_xlim(0, 2*np.pi)\n",
    "ax.set_ylim(-1.1, 1.1)\n",
    "def animate(frame_num):\n",
    "    y = np.sin(x + 2*np.pi * frame_num/100)\n",
    "    line.set_data((x, y))\n",
    "    return line\n",
    "anim = FuncAnimation(fig, animate, frames=100, interval=20)\n",
    "plt.show()"
   ]
  },
  {
   "cell_type": "code",
   "execution_count": null,
   "metadata": {},
   "outputs": [],
   "source": [
    "sys = LS.LMXB_Sys('GROJ1655')\n"
   ]
  },
  {
   "cell_type": "code",
   "execution_count": null,
   "metadata": {},
   "outputs": [],
   "source": [
    "X = np.linspace(.1,20,300)*u.kpc.to(u.m)\n",
    "vrot = np.array([TrajTools.getVrot(X=x,Y=0,Z=0) for x in X])\n",
    "plt.semilogy(X*u.m.to(u.kpc),vrot*u.m.to(u.km))\n",
    "plt.ylim(0,300)\n",
    "plt.xlim(0,15)\n",
    "plt.show()"
   ]
  },
  {
   "cell_type": "code",
   "execution_count": null,
   "metadata": {},
   "outputs": [],
   "source": [
    "LS.doMotion(sys,2.0)\n",
    "Xc, Yc, Zc, Vpecc,tc = sys.X, sys.Y, sys.Z, sys.Vpec, sys.t\n",
    "fig = plt.figure(figsize=(20,3))\n",
    "ax1 = fig.add_subplot(1,3,1,aspect='equal')\n",
    "ax2 = fig.add_subplot(1,3,2)\n",
    "ax3 = fig.add_subplot(1,3,3)\n",
    "\n",
    "ax1.plot(Xc, Yc, color=c)\n",
    "ax2.plot(Xc, Zc, color=c)\n",
    "ax3.plot(tc, Vpecc, color=c)"
   ]
  },
  {
   "cell_type": "code",
   "execution_count": null,
   "metadata": {},
   "outputs": [],
   "source": [
    "x = LS.getCrossings(sys)"
   ]
  },
  {
   "cell_type": "code",
   "execution_count": null,
   "metadata": {},
   "outputs": [],
   "source": [
    "Zc"
   ]
  },
  {
   "cell_type": "code",
   "execution_count": null,
   "metadata": {},
   "outputs": [],
   "source": [
    "c = color_array[1]\n",
    "fig = plt.figure(figsize=(20,3))\n",
    "ax1 = fig.add_subplot(1,3,1,aspect='equal')\n",
    "ax2 = fig.add_subplot(1,3,2)\n",
    "ax3 = fig.add_subplot(1,3,3)\n",
    "\n",
    "ax1.axhline(0,ls = '--')\n",
    "ax1.axvline(0,ls = '--')\n",
    "ax2.axhline(0,ls = '--')\n",
    "ax2.axvline(0,ls = '--')\n",
    "\n",
    "ax1.set_xlabel('X (kpc)')\n",
    "ax1.set_ylabel('Y (kpc)')\n",
    "\n",
    "ax2.set_xlabel('X (kpc)')\n",
    "ax2.set_ylabel('Z (kpc)')\n",
    "\n",
    "ax3.set_xlabel('t (Gyr)')\n",
    "ax3.set_ylabel('$V_{pec}$ (km/s)')\n",
    "vpecs=[]\n",
    "rand_params = []\n",
    "vbirth = []\n",
    "for i in range(100):\n",
    "    print(i)\n",
    "    sys.setRandUVWXYZ(skew=False)\n",
    "    LS.doMotion(sys,2.0)\n",
    "    vpecs.append(sys.Vpec[0])\n",
    "    ax1.plot(sys.X,sys.Y,'.7')\n",
    "    ax2.plot(sys.X,sys.Z,'.7')\n",
    "    ax3.plot(sys.t,sys.Vpec,'.7')\n",
    "    if max(np.sqrt(sys.X**2+sys.Y**2))>50: \n",
    "        print(sys.Vpec[0])\n",
    "        rand_params.append(sys.randparams)\n",
    "    crossings = LS.getCrossings(sys)\n",
    "    vbirth.extend(crossings[-1])\n",
    "\n",
    "ax1.plot(Xc, Yc, color=c)\n",
    "ax2.plot(Xc, Zc, color=c)\n",
    "ax3.plot(tc, Vpecc, color=c)\n",
    "#ax1.set_xlim(-30,30)\n",
    "#ax1.set_ylim(-30,30)\n",
    "#ax2.set_xlim(-30,30)\n",
    "#ax2.set_ylim(-5,5)\n",
    "fig.savefig('J1305_traj.png')\n",
    "plt.show()"
   ]
  },
  {
   "cell_type": "code",
   "execution_count": null,
   "metadata": {},
   "outputs": [],
   "source": [
    "print(V)"
   ]
  },
  {
   "cell_type": "code",
   "execution_count": null,
   "metadata": {},
   "outputs": [],
   "source": [
    "plt.hist(vbirth,30,histtype='step', lw=3, color=color_array[0],normed=True)\n",
    "plt.xlabel('$V_{\\mathrm{pec,birth}}$ (km/s)')\n",
    "plt.legend()\n",
    "plt.show()"
   ]
  },
  {
   "cell_type": "code",
   "execution_count": null,
   "metadata": {},
   "outputs": [],
   "source": [
    "ax3.set_ylabel('$V_{pec,birth}$ (km/s)')"
   ]
  },
  {
   "cell_type": "code",
   "execution_count": null,
   "metadata": {},
   "outputs": [],
   "source": [
    "plt.hist(vpecs)\n",
    "plt.show()"
   ]
  },
  {
   "cell_type": "code",
   "execution_count": null,
   "metadata": {},
   "outputs": [],
   "source": [
    "Vx, Vy, Vz = [], [], []\n",
    "for i in range(1000):\n",
    "    sys.setRandUVWXYZ(skew=True)\n",
    "    Vx.append(sys.Vx0)\n",
    "    Vy.append(sys.Vy0)\n",
    "    Vz.append(sys.Vz0)\n"
   ]
  },
  {
   "cell_type": "code",
   "execution_count": null,
   "metadata": {},
   "outputs": [],
   "source": [
    "def get_stats(x,quantiles=[16,50,84]):\n",
    "    low, med, high = np.percentile(x,quantiles)\n",
    "    print('{}(+{}, -{})'.format(med,high-med,med-low))\n",
    "    print('2 sigma {}-{}'.format(low,high))\n",
    "print(get_stats(Vx))\n",
    "print(get_stats(Vy))\n",
    "print(get_stats(Vz))\n",
    "\n"
   ]
  },
  {
   "cell_type": "code",
   "execution_count": null,
   "metadata": {},
   "outputs": [],
   "source": []
  },
  {
   "cell_type": "code",
   "execution_count": null,
   "metadata": {},
   "outputs": [],
   "source": [
    "for ii in rand_params: print(ii)\n",
    "print((11.15-7.5)/1.8)"
   ]
  },
  {
   "cell_type": "code",
   "execution_count": null,
   "metadata": {},
   "outputs": [],
   "source": [
    "print(sys.X[0],sys.Y[0],sys.Z[0],sys.Vx[0],sys.Vy[0],sys.Vz[0])"
   ]
  },
  {
   "cell_type": "code",
   "execution_count": null,
   "metadata": {},
   "outputs": [],
   "source": [
    "plt.plot(sys.t,sys.Vpec)\n",
    "plt.show()"
   ]
  },
  {
   "cell_type": "code",
   "execution_count": null,
   "metadata": {},
   "outputs": [],
   "source": [
    "range(2)"
   ]
  },
  {
   "cell_type": "code",
   "execution_count": null,
   "metadata": {},
   "outputs": [],
   "source": []
  }
 ],
 "metadata": {
  "celltoolbar": "Slideshow",
  "kernelspec": {
   "display_name": "Python 3",
   "language": "python",
   "name": "python3"
  },
  "language_info": {
   "codemirror_mode": {
    "name": "ipython",
    "version": 3
   },
   "file_extension": ".py",
   "mimetype": "text/x-python",
   "name": "python",
   "nbconvert_exporter": "python",
   "pygments_lexer": "ipython3",
   "version": "3.6.9"
  }
 },
 "nbformat": 4,
 "nbformat_minor": 2
}
